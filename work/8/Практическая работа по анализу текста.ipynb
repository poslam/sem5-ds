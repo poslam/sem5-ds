{
 "nbformat": 4,
 "nbformat_minor": 0,
 "metadata": {
  "colab": {
   "provenance": [],
   "authorship_tag": "ABX9TyMJbai/zinIlfO6Z++x5N8X"
  },
  "kernelspec": {
   "name": "python3",
   "display_name": "Python 3"
  },
  "language_info": {
   "name": "python"
  }
 },
 "cells": [
  {
   "cell_type": "markdown",
   "source": [
    "# Практическая работа по анализу текста"
   ],
   "metadata": {
    "id": "pIeGIOzbUCdq"
   }
  },
  {
   "cell_type": "markdown",
   "source": [
    "В качестве метрики качества используйте отчет о классификации https://scikit-learn.org/1.5/modules/generated/sklearn.metrics.classification_report.html"
   ],
   "metadata": {
    "id": "JqavdKUsYgxE"
   }
  },
  {
   "cell_type": "code",
   "source": [
    "!pip install natasha"
   ],
   "metadata": {
    "id": "Y1Zf_f9CPCW9"
   },
   "execution_count": null,
   "outputs": []
  },
  {
   "cell_type": "code",
   "execution_count": null,
   "metadata": {
    "id": "ITM4Cd-nUBxk"
   },
   "outputs": [],
   "source": [
    "import os\n",
    "import string\n",
    "import razdel\n",
    "import math\n",
    "import random\n",
    "import pymorphy2\n",
    "import nltk\n",
    "\n",
    "import numpy as np\n",
    "import pandas as pd\n",
    "import seaborn as sns\n",
    "import matplotlib.pyplot as plt\n",
    "\n",
    "from tqdm.notebook import tqdm_notebook as tqdm\n",
    "from tqdm.notebook import trange\n",
    "\n",
    "from gensim import corpora, models, similarities, downloader\n",
    "\n",
    "tqdm.pandas()"
   ]
  },
  {
   "cell_type": "code",
   "source": [
    "SEED = 1234\n",
    "os.environ[\"CUBLAS_WORKSPACE_CONFIG\"] = \":4096:8\"\n",
    "np.random.seed(seed)\n",
    "random.seed(seed)\n",
    "os.environ[\"PYTHONHASHSEED\"] = str(seed)"
   ],
   "metadata": {
    "id": "G7RBtc_0PM7J"
   },
   "execution_count": null,
   "outputs": []
  },
  {
   "cell_type": "markdown",
   "source": [
    "## 1. Обработка данных"
   ],
   "metadata": {
    "id": "kJWWOLwrOWM0"
   }
  },
  {
   "cell_type": "code",
   "source": [
    "morph = (\n",
    "    pymorphy2.MorphAnalyzer()\n",
    ")  # инициализируйется вне функции, иначе код будет работать дольше\n",
    "# spaCy если нет возможности обработки английского языка\n",
    "\n",
    "# Напишите функцию обработки предложения, используя следующие библиотеки pymorphy2, nltk, razdel. Обязательно ознакомьтесь с каждой из библиотек\n",
    "# после написания функции примените ее к датасету, используя df.progress_apply(...)\n",
    "# функция последовательно должна делать следующие шаги: разбиение текста на токены с помощью razdel, приведение их к нормальной форме с помощью morph и затем обработка стоп-слов с помощью nltk.\n",
    "# Вы можете внести изменения в описанный выше пайплайн, добавив новые шаги, но уменьшать перечисленные нельзя.\n",
    "# пайплайн выше приспособлен к работе с кириллицей. В датасете есть английские слова, их тоже надо суметь обработать\n",
    "# (одна из библиотек умеет автоматически обнаруживать иностранные слова и возвращать соответствующий тег)."
   ],
   "metadata": {
    "id": "kmD760M7QFQr"
   },
   "execution_count": null,
   "outputs": []
  },
  {
   "cell_type": "markdown",
   "source": [
    "## 2. EDA"
   ],
   "metadata": {
    "id": "rEVeSkIeRIrN"
   }
  },
  {
   "cell_type": "code",
   "source": [
    "# Проанализируйте классы, их распределение и количество объектов в каждом. Оцените необходимость балансировки."
   ],
   "metadata": {
    "id": "mnC1PZ2ORLTB"
   },
   "execution_count": null,
   "outputs": []
  },
  {
   "cell_type": "code",
   "source": [
    "# Постройте облака точек https://www.datacamp.com/tutorial/wordcloud-python"
   ],
   "metadata": {
    "id": "BrXbOPaPR16X"
   },
   "execution_count": null,
   "outputs": []
  },
  {
   "cell_type": "code",
   "source": [
    "# поищите выбросы в токенах, возможно, где-то вместо кириллицы использовалась латиница, тогда символы x и х будут разными токенами, а смысл может быть у них одинаковый."
   ],
   "metadata": {
    "id": "6g-EMYk5SG7g"
   },
   "execution_count": null,
   "outputs": []
  },
  {
   "cell_type": "code",
   "source": [
    "# разбейте выборку на тест и трейн train_test_split(X, y, random_state=SEED, stratify=True)"
   ],
   "metadata": {
    "id": "lgpJhtFTReX6"
   },
   "execution_count": null,
   "outputs": []
  },
  {
   "cell_type": "code",
   "source": [
    "# поищите выбросы в предложениях, это можно сделать не на обработанных данных. Возможно, где-то перепутаны классы, или есть пустые предложения. Этот шаг обязательно после разбиения и только на трейне."
   ],
   "metadata": {
    "id": "3wVhWyd0S6M2"
   },
   "execution_count": null,
   "outputs": []
  },
  {
   "cell_type": "markdown",
   "source": [
    "# 3. Тематическое моделирование"
   ],
   "metadata": {
    "id": "75FlCPHnULXl"
   }
  },
  {
   "cell_type": "markdown",
   "source": [
    "https://medium.com/@sayahfares19/text-analysis-topic-modelling-with-spacy-gensim-4cd92ef06e06"
   ],
   "metadata": {
    "id": "-vdHcB6RUOyH"
   }
  },
  {
   "cell_type": "markdown",
   "source": [
    "https://radimrehurek.com/gensim/auto_examples/tutorials/run_lda.html#sphx-glr-auto-examples-tutorials-run-lda-py"
   ],
   "metadata": {
    "id": "nlCDgjnKUe2k"
   }
  },
  {
   "cell_type": "code",
   "source": [
    "# используя ссылки выше создайте тематическую модель над предложениями. Помните, что темы != классы, поэтому их количество не обязательно должно совпадать.\n",
    "# не забывайте использовать фильтры над словами, это очень важно, чтобы не учиться на слишком частых токенах и не учитывать крайне редкие.\n",
    "# обязательно добавляйте n-граммы в модель.\n",
    "# для всего вышеперечисленного в gensim есть методы, параметры и функции"
   ],
   "metadata": {
    "id": "qw6sh_uZUfWk"
   },
   "execution_count": null,
   "outputs": []
  },
  {
   "cell_type": "code",
   "source": [
    "# Train LDA model.\n",
    "from gensim.models import LdaModel\n",
    "from gensim.models import CoherenceModel\n",
    "\n",
    "\n",
    "def compute_coherence_values(dictionary, corpus, texts, limit, start=2, step=3):\n",
    "    \"\"\"\n",
    "    Compute c_v coherence for various number of topics\n",
    "    Parameters:\n",
    "    ----------\n",
    "    dictionary : Gensim dictionary\n",
    "    corpus : Gensim corpus\n",
    "    texts : List of input texts\n",
    "    limit : Max num of topics\n",
    "    Returns:\n",
    "    -------\n",
    "    model_list : List of LDA topic models\n",
    "    coherence_values : Coherence values corresponding to the LDA model with respective number of topics\n",
    "    \"\"\"\n",
    "    temp = dictionary[0]  # This is only to \"load\" the dictionary.\n",
    "    id2word = dictionary.id2token\n",
    "    coherence_values = []\n",
    "    model_list = []\n",
    "\n",
    "    for num_topics in tqdm(range(start, limit, step)):\n",
    "        model = LdaModel(\n",
    "            corpus=corpus,\n",
    "            id2word=id2word,\n",
    "            chunksize=chunksize,\n",
    "            alpha=\"auto\",\n",
    "            eta=\"auto\",\n",
    "            iterations=iterations,\n",
    "            num_topics=num_topics,\n",
    "            passes=passes,\n",
    "            eval_every=eval_every,\n",
    "        )\n",
    "        model_list.append(model)\n",
    "        coherencemodel = CoherenceModel(\n",
    "            model=model, texts=texts, dictionary=dictionary, coherence=\"c_v\"\n",
    "        )\n",
    "        coherence_values.append(coherencemodel.get_coherence())\n",
    "    return model_list, coherence_values"
   ],
   "metadata": {
    "id": "3pjTILy5Xqu-"
   },
   "execution_count": null,
   "outputs": []
  },
  {
   "cell_type": "code",
   "source": [
    "# Can take a long time to run.\n",
    "\n",
    "# Set training parameters.\n",
    "chunksize = 2000\n",
    "passes = 20\n",
    "iterations = 400\n",
    "eval_every = None  # Don't evaluate model perplexity, takes too much time.\n",
    "limit=10; start=2; step=1;\n",
    "\n",
    "\n",
    "model_list, coherence_values = compute_coherence_values(dictionary=dictionary, corpus=corpus, texts=train, start=, limit=, step=)"
   ],
   "metadata": {
    "id": "zWX2lGLJXxfu"
   },
   "execution_count": null,
   "outputs": []
  },
  {
   "cell_type": "code",
   "source": [
    "# Show graph\n",
    "x = range(start, limit, step)\n",
    "plt.plot(x, coherence_values)\n",
    "plt.xlabel(\"Num Topics\")\n",
    "plt.ylabel(\"Coherence score\")\n",
    "plt.legend((\"coherence_values\"), loc=\"best\")\n",
    "plt.show()"
   ],
   "metadata": {
    "id": "RGHVlHfpXzJx"
   },
   "execution_count": null,
   "outputs": []
  },
  {
   "cell_type": "code",
   "source": [
    "# Выберите модель с наибольшей когерентностью.\n",
    "# Визуализируйте темы полученной модели с помощью pyLDAvis"
   ],
   "metadata": {
    "id": "Xy7PzmitYPzG"
   },
   "execution_count": null,
   "outputs": []
  },
  {
   "cell_type": "code",
   "source": [
    "# Используйте выход модели (вероятности принадлежности к каждой из тем), как входные фичи, например, в SVM для предсказания классов предложений.\n",
    "# Токены и их векторные описания в таком случае не используются. Измерьте качество полученного алгоритма на тесте и трейне"
   ],
   "metadata": {
    "id": "qMLSkY-7YfVz"
   },
   "execution_count": null,
   "outputs": []
  },
  {
   "cell_type": "markdown",
   "source": [
    "## 4. Градиентный бустинг"
   ],
   "metadata": {
    "id": "qIqdoQPlZE04"
   }
  },
  {
   "cell_type": "code",
   "source": [
    "import catboost\n",
    "import optuna"
   ],
   "metadata": {
    "id": "v5nnolstdKID"
   },
   "execution_count": null,
   "outputs": []
  },
  {
   "cell_type": "markdown",
   "source": [
    "1. В методах преобразования данных пробуйте различные параметры, в поисках лучших для решения текущей задачи\n",
    "2. Не забывайте про подбор параметров у самого бустинга с помощью optuna\n",
    "\n",
    "https://forecastegy.com/posts/catboost-hyperparameter-tuning-guide-with-optuna/"
   ],
   "metadata": {
    "id": "hFUDBWyyctcO"
   }
  },
  {
   "cell_type": "markdown",
   "source": [
    "### Мешок слов"
   ],
   "metadata": {
    "id": "yQq_IsefbVRG"
   }
  },
  {
   "cell_type": "code",
   "source": [
    "# обучите градиентный бустинг на мешке слов https://scikit-learn.org/1.5/modules/generated/sklearn.feature_extraction.text.CountVectorizer.html"
   ],
   "metadata": {
    "id": "XCGj9L8WY2uy"
   },
   "execution_count": null,
   "outputs": []
  },
  {
   "cell_type": "markdown",
   "source": [
    "### Мешок слов + n-grams"
   ],
   "metadata": {
    "id": "8mK0p4OnbcWQ"
   }
  },
  {
   "cell_type": "code",
   "source": [
    "# обучите градиентный бустинг на мешке слов с n-граммами https://scikit-learn.org/1.5/modules/generated/sklearn.feature_extraction.text.CountVectorizer.html с n-граммами"
   ],
   "metadata": {
    "id": "DxupD4dQbep1"
   },
   "execution_count": null,
   "outputs": []
  },
  {
   "cell_type": "markdown",
   "source": [
    "### Мешок слов + m-skip-n-grams"
   ],
   "metadata": {
    "id": "WUHWGB0Qbcv0"
   }
  },
  {
   "cell_type": "code",
   "source": [
    "from toolz import itertoolz, compose\n",
    "from toolz.curried import map as cmap, sliding_window, pluck\n",
    "from sklearn.feature_extraction.text import CountVectorizer\n",
    "\n",
    "\n",
    "class SkipGramVectorizer(CountVectorizer):\n",
    "    def build_analyzer(self):\n",
    "        preprocess = self.build_preprocessor()\n",
    "        stop_words = self.get_stop_words()\n",
    "        tokenize = self.build_tokenizer()\n",
    "        return lambda doc: self._word_skip_grams(\n",
    "            compose(tokenize, preprocess, self.decode)(doc), stop_words\n",
    "        )\n",
    "\n",
    "    def _word_skip_grams(self, tokens, stop_words=None):\n",
    "        # handle stop words\n",
    "        if stop_words is not None:\n",
    "            tokens = [w for w in tokens if w not in stop_words]\n",
    "\n",
    "        return compose(cmap(\" \".join), pluck([0, 2]), sliding_window(3))(tokens)"
   ],
   "metadata": {
    "id": "YDi7CTwDbkWD"
   },
   "execution_count": null,
   "outputs": []
  },
  {
   "cell_type": "markdown",
   "source": [
    "### TF-IDF"
   ],
   "metadata": {
    "id": "Yf2RrhA9bc_h"
   }
  },
  {
   "cell_type": "code",
   "source": [
    "# обучите градиентный бустинг на мешке слов https://scikit-learn.org/1.5/modules/generated/sklearn.feature_extraction.text.TfidfVectorizer.html"
   ],
   "metadata": {
    "id": "uUT_wQbzbwlM"
   },
   "execution_count": null,
   "outputs": []
  },
  {
   "cell_type": "markdown",
   "source": [
    "### TF-IDF + n-grams"
   ],
   "metadata": {
    "id": "6nkX0ir9bxR-"
   }
  },
  {
   "cell_type": "code",
   "source": [],
   "metadata": {
    "id": "yNjczhqrbxfW"
   },
   "execution_count": null,
   "outputs": []
  },
  {
   "cell_type": "markdown",
   "source": [
    "### TF-IDF + m-skip-n-grams"
   ],
   "metadata": {
    "id": "8DsvDmkDbx3v"
   }
  },
  {
   "cell_type": "code",
   "source": [
    "# по аналогии с кодом выше"
   ],
   "metadata": {
    "id": "VXrUHVlhbyEg"
   },
   "execution_count": null,
   "outputs": []
  },
  {
   "cell_type": "markdown",
   "source": [
    "### Генерация искусственных данных и балансировка классов"
   ],
   "metadata": {
    "id": "sa_FLN--UKhx"
   }
  },
  {
   "cell_type": "markdown",
   "source": [
    "Выберите лучшее представление данных, опираясь на метрику. Попробуйте сбалансировать классы с помощью весов (параметр catboost), если выше этого не делали. Попробуйте сгенерировать новые данные для классов, в которых меньше всего объектов. Генерация представляет собой семплирование токенов из всего множества токенов определенного класса. Обучите модель на новом датасете, сравните качество"
   ],
   "metadata": {
    "id": "itbqzh7gUS2q"
   }
  },
  {
   "cell_type": "markdown",
   "source": [
    "1. признаки предложений (длина предложений, наличие орф.знаков, количество предложений в тексте)\n",
    "2. обработка опечаток (расстояние между словом нормальным и словом с опечаткой)\n",
    "3. склеивание с частицей не."
   ],
   "metadata": {
    "id": "EL79J445rq9F"
   }
  },
  {
   "cell_type": "code",
   "source": [
    "#"
   ],
   "metadata": {
    "id": "wYIuExQvspoq"
   },
   "execution_count": null,
   "outputs": []
  },
  {
   "cell_type": "code",
   "source": [
    "# прогнать флоу выше с catboost"
   ],
   "metadata": {
    "id": "sHWYxZiEsrP5"
   },
   "execution_count": null,
   "outputs": []
  },
  {
   "cell_type": "markdown",
   "source": [
    "## Понижение размерности"
   ],
   "metadata": {
    "id": "2Hv_sCKBUdF-"
   }
  },
  {
   "cell_type": "code",
   "source": [
    "# уменьшите размерность векторов с помощью PCA, посмотрите, улучшается ли качество. Попробуйте несколько вариантов понижения размерности: от 90% до 50% от изначального размера вектора."
   ],
   "metadata": {
    "id": "JcEsTtMZUy-m"
   },
   "execution_count": null,
   "outputs": []
  },
  {
   "cell_type": "code",
   "source": [
    "# (ПО ЖЕЛАНИЮ) применить метод кластеризации и использовать метки кластеров как доп признак"
   ],
   "metadata": {
    "id": "6bLkTRUauOBj"
   },
   "execution_count": null,
   "outputs": []
  },
  {
   "cell_type": "markdown",
   "source": [
    "# 5. Интерпретация результатов"
   ],
   "metadata": {
    "id": "L07K_QeldmMf"
   }
  },
  {
   "cell_type": "markdown",
   "source": [
    "https://shap.readthedocs.io/en/latest/example_notebooks/tabular_examples/tree_based_models/Catboost%20tutorial.html"
   ],
   "metadata": {
    "id": "HnqAUg_bdxJZ"
   }
  },
  {
   "cell_type": "code",
   "source": [
    "# используя туториал выше, интерпретируйте результаты. Определите, какие слова влияют в каждом классе больше остальных."
   ],
   "metadata": {
    "id": "rzVYFgV1dqnL"
   },
   "execution_count": null,
   "outputs": []
  },
  {
   "cell_type": "markdown",
   "source": [
    "## Визуализация результатов"
   ],
   "metadata": {
    "id": "B0JBHJDGUs8t"
   }
  },
  {
   "cell_type": "code",
   "source": [
    "# С помощью методов понижения размерности T-SNE И U-MAP взгляните на получившиеся векторные представления данных"
   ],
   "metadata": {
    "id": "qzUmS-IkUvgc"
   },
   "execution_count": null,
   "outputs": []
  }
 ]
}
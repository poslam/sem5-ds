{
 "cells": [
  {
   "cell_type": "markdown",
   "metadata": {
    "vscode": {
     "languageId": "plaintext"
    }
   },
   "source": [
    "# задание 1"
   ]
  },
  {
   "cell_type": "markdown",
   "metadata": {},
   "source": [
    "Используя датасеты о продуктах и их продажах посчитайте корреляции:\n",
    "* Пирсона\n",
    "* Спирмена\n",
    "* Мэтьюса\n",
    "* Крамера\n",
    "\n",
    "Ход работы:\n",
    "* Прочтите данные о продажах и продуктах\n",
    "* Соедините таблицы друг с другом по id продукта\n",
    "* Посчитайте корреляцию Спирмена временного ряда продаж каждого продукта с каждым\n",
    "* Посчитайте корреляцию Пирсона временного ряда продаж каждого продукта с каждым\n",
    "* Найдите наиболее коррелирующий товар с American Chicken Hot Dogs по значению корреляции Спирмена и Пиарсона\n",
    "* Постройте график зависимости продаж American Chicken Hot Dogs от найденного товара\n",
    "* Найдите корреляцию Мэтьюса между recyclable_package и low_fat\n",
    "* Постройте график зависимости между recyclable_package и low_fat\n",
    "* Найдите корреляцию Крамера между store_id и brand_name. Есть ли корреляция между этими признаками?\n",
    "* Постройте график зависимости между store_id и brand_name"
   ]
  },
  {
   "cell_type": "markdown",
   "metadata": {
    "vscode": {
     "languageId": "plaintext"
    }
   },
   "source": [
    "# задание 2"
   ]
  },
  {
   "cell_type": "markdown",
   "metadata": {},
   "source": [
    "## описание задачи"
   ]
  },
  {
   "cell_type": "markdown",
   "metadata": {},
   "source": [
    "В этом задании необходимо достичь максимального качества предсказания, используя навыки полученные за 4 недели обучения\n",
    "\n",
    "Кто достигнет максимального значения на тестовой выборке, получит *15 баллов*\n",
    "\n",
    "Пожалуйста, оформляйте ноутбук аккуратно. Все выводы подписывайте, оформляйте заголовки."
   ]
  },
  {
   "cell_type": "markdown",
   "metadata": {},
   "source": [
    "Для справедливой оценки все должны использовать одну и ту же часть исходного датасета в качестве тестового набора данных. Используйте разбиение приведенное ниже\n",
    "\n",
    "\n",
    "```\n",
    "train_test_split(X, y, test_size = 0.3, random_state = 69, stratify = y)\n",
    "```\n",
    "И модель, с которой вы работаете - это логистическая регрессия. Другие алгоритмы не используйте.\n",
    "\n",
    "Метрика, которую вы должны максимизировать\n",
    "\n",
    "```\n",
    "f1_score(y_test, y_pred, average='weighted')\n",
    "```\n",
    "\n",
    "Целевая переменная - *count*\n",
    "\n",
    "Обратите внимание на столбцы - 'casual', 'registered'. Эти столбцы в сумме дают целевую переменную, по этой причине их надо удалить. Они линейно зависимы.\n",
    "\n",
    "\n"
   ]
  },
  {
   "cell_type": "markdown",
   "metadata": {},
   "source": [
    "Используйтие средства библиотеки sklearn, внимательно изучите ее. Существует огромное количество методов для выполнения каждого из этапов, не бойтесь использовать методы неприведенные в лекции"
   ]
  },
  {
   "cell_type": "markdown",
   "metadata": {},
   "source": [
    "Этапы, которые необходимо проделать в работе для успешного достижения результата:\n",
    "* EDA (Исследовать данные, понять с чем имеете дело, наработать идеи для генерации фичей и их обработки, обязательно корреляционные матрицы и графики с hue=классы объектов)\n",
    "* Анализ выбросов и их обработка (в задачах классификации выброс - это объект с таким признаковым описанием, которое отличается очень сильно от типичного и больше соответствует другому классу)\n",
    "* Генерация новых фичей (думайте нетривиально, даю подсказку одной фичи - обратитесь к библиотеке holidays)\n",
    "* Обработка пропусков (вы можете сгенерировать новые фичи с пропусками, тогда надо подумать об их обработке)\n",
    "* Обработка категориальных признаков\n",
    "* Масштабирование вещественных признаков\n",
    "* Балансировка классов\n",
    "* Нелинейные автоматические трансформации признаков (Kernel Trick)\n",
    "* Подбор параметров модели (можете менять не только константы, но и оптимизационные алгоритмы и методы регуляризации)\n",
    "* Отбор признаков\n",
    "* Составление пайплайна обучения\n",
    "* Обязательно: Постройте график зависимости y_pred от y_true в разбиении на test и train. Предсказание идеального алгоритма даст прямую y=x, посмотрите какой график получается у вас."
   ]
  },
  {
   "cell_type": "markdown",
   "metadata": {},
   "source": [
    "## Bike Sharing Demand\n",
    "\n",
    "По историческим данным о прокате велосипедов и погодным условиям необходимо оценить спрос на прокат велосипедов.\n",
    "\n",
    "В наборе признаков присутсвуют вещественные, категориальные, и бинарные данные."
   ]
  },
  {
   "cell_type": "markdown",
   "metadata": {},
   "source": [
    "### Библиотеки"
   ]
  },
  {
   "cell_type": "code",
   "execution_count": null,
   "metadata": {},
   "outputs": [
    {
     "name": "stdout",
     "output_type": "stream",
     "text": [
      "Populating the interactive namespace from numpy and matplotlib\n"
     ]
    }
   ],
   "source": [
    "%pylab inline"
   ]
  },
  {
   "cell_type": "markdown",
   "metadata": {},
   "source": [
    "### Загрузка данных"
   ]
  },
  {
   "cell_type": "code",
   "execution_count": null,
   "metadata": {},
   "outputs": [
    {
     "name": "stdout",
     "output_type": "stream",
     "text": [
      "Mounted at /content/drive\n"
     ]
    }
   ],
   "source": [
    "from google.colab import drive\n",
    "drive.mount('/content/drive')"
   ]
  },
  {
   "cell_type": "code",
   "execution_count": null,
   "metadata": {},
   "outputs": [],
   "source": [
    "pd.read_csv('/content/drive/MyDrive/Занятия. Осенний семестр/Домашние работы/Лекция 4. Отбор признаков и пайплайн обучения/bike_sharing_demand.csv')"
   ]
  },
  {
   "cell_type": "markdown",
   "metadata": {},
   "source": [
    "***datetime*** - hourly date + timestamp  \n",
    "\n",
    "***season*** -  1 = spring, 2 = summer, 3 = fall, 4 = winter\n",
    "\n",
    "***holiday*** - whether the day is considered a holiday\n",
    "\n",
    "***workingday*** - whether the day is neither a weekend nor holiday\n",
    "\n",
    "***weather*** - 1: Clear, Few clouds, Partly cloudy, Partly cloudy\n",
    "2: Mist + Cloudy, Mist + Broken clouds, Mist + Few clouds, Mist\n",
    "3: Light Snow, Light Rain + Thunderstorm + Scattered clouds, Light Rain + Scattered clouds\n",
    "4: Heavy Rain + Ice Pallets + Thunderstorm + Mist, Snow + Fog\n",
    "    \n",
    "***temp*** - temperature in Celsius\n",
    "\n",
    "***atemp*** - \"feels like\" temperature in Celsius\n",
    "\n",
    "***humidity*** - relative humidity\n",
    "\n",
    "***windspeed*** - wind speed\n",
    "\n",
    "***casual*** - number of non-registered user rentals initiated\n",
    "\n",
    "***registered*** - number of registered user rentals initiated\n",
    "\n",
    "***count*** - number of total rentals"
   ]
  }
 ],
 "metadata": {
  "language_info": {
   "name": "python"
  }
 },
 "nbformat": 4,
 "nbformat_minor": 2
}

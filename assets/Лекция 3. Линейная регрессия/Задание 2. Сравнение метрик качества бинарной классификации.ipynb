{
 "cells": [
  {
   "cell_type": "markdown",
   "metadata": {
    "id": "GT-oRyC_ywEd"
   },
   "source": [
    "# Задание 2. Сравнение метрик качества бинарной классификации"
   ]
  },
  {
   "cell_type": "markdown",
   "metadata": {
    "id": "wY1lw9MdywEf"
   },
   "source": [
    "В этом задании мы разберемся, в чем состоит разница между разными метриками качества. Мы остановимся на задаче бинарной классификации (с откликами 0 и 1), но рассмотрим ее как задачу предсказания вероятности того, что объект принадлежит классу 1. Таким образом, мы будем работать с вещественной, а не бинарной целевой переменной."
   ]
  },
  {
   "cell_type": "markdown",
   "metadata": {
    "id": "7i-Qt367ywEf"
   },
   "source": [
    "Задание оформлено в стиле демонстрации с элементами Programming Assignment. Вам нужно запустить уже написанный код и рассмотреть предложенные графики, а также реализовать несколько своих функций. Для проверки запишите в отдельные файлы результаты работы этих функций на указанных наборах входных данных, это можно сделать с помощью предложенных в заданиях функций write_answer_N, N - номер задачи. Загрузите эти файлы в систему."
   ]
  },
  {
   "cell_type": "markdown",
   "metadata": {
    "id": "6-mlvEKpywEg"
   },
   "source": [
    "Для построения графиков нужно импортировать соответствующие модули.\n",
    "Библиотека seaborn позволяет сделать графики красивее. Если вы не хотите ее использовать, закомментируйте третью строку.\n",
    "Более того, для выполнения Programming Assignment модули matplotlib и seaborn не нужны (вы можете не запускать ячейки с построением графиков и смотреть на уже построенные картинки)."
   ]
  },
  {
   "cell_type": "code",
   "execution_count": null,
   "metadata": {
    "collapsed": true,
    "id": "k9N2LepiywEg"
   },
   "outputs": [],
   "source": [
    "import numpy as np\n",
    "from matplotlib import pyplot as plt\n",
    "import seaborn as sns\n",
    "\n",
    "%matplotlib inline"
   ]
  },
  {
   "cell_type": "markdown",
   "metadata": {
    "id": "n3tQwJkSywEh"
   },
   "source": [
    "### Что предсказывают алгоритмы"
   ]
  },
  {
   "cell_type": "markdown",
   "metadata": {
    "id": "-mgf-kdZywEh"
   },
   "source": [
    "Для вычисления метрик качества в обучении с учителем нужно знать только два вектора: вектор правильных ответов и вектор предсказанных величин; будем обозначать их actual и predicted. Вектор actual известен из обучающей выборки, вектор predicted возвращается алгоритмом предсказания. Сегодня мы не будем использовать какие-то алгоритмы классификации, а просто рассмотрим разные векторы предсказаний.\n",
    "\n",
    "В нашей формулировке actual состоит из нулей и единиц, а predicted - из величин из интервала [0, 1] (вероятности класса 1). Такие векторы удобно показывать на scatter plot.\n",
    "\n",
    "Чтобы сделать финальное предсказание (уже бинарное), нужно установить порог T: все объекты, имеющие предсказание выше порога, относят к классу 1, остальные - к классу 0."
   ]
  },
  {
   "cell_type": "code",
   "execution_count": null,
   "metadata": {
    "collapsed": true,
    "id": "idOkqAGlywEh"
   },
   "outputs": [],
   "source": [
    "# рисует один scatter plot\n",
    "def scatter(actual, predicted, T):\n",
    "    plt.scatter(actual, predicted)\n",
    "    plt.xlabel(\"Labels\")\n",
    "    plt.ylabel(\"Predicted probabilities\")\n",
    "    plt.plot([-0.2, 1.2], [T, T])\n",
    "    plt.axis([-0.1, 1.1, -0.1, 1.1])\n",
    "\n",
    "\n",
    "# рисует несколько scatter plot в таблице, имеющей размеры shape\n",
    "def many_scatters(actuals, predicteds, Ts, titles, shape):\n",
    "    plt.figure(figsize=(shape[1] * 5, shape[0] * 5))\n",
    "    i = 1\n",
    "    for actual, predicted, T, title in zip(actuals, predicteds, Ts, titles):\n",
    "        ax = plt.subplot(shape[0], shape[1], i)\n",
    "        ax.set_title(title)\n",
    "        i += 1\n",
    "        scatter(actual, predicted, T)"
   ]
  },
  {
   "cell_type": "markdown",
   "metadata": {
    "id": "eQhuBaL-ywEh"
   },
   "source": [
    "Идеальная ситуация: существует порог T, верно разделяющий вероятности, соответствующие двум классам. Пример такой ситуации:"
   ]
  },
  {
   "cell_type": "code",
   "execution_count": null,
   "metadata": {
    "collapsed": true,
    "id": "UzMwmBVeywEh"
   },
   "outputs": [],
   "source": [
    "actual_0 = np.array(\n",
    "    [\n",
    "        0.0,\n",
    "        0.0,\n",
    "        0.0,\n",
    "        0.0,\n",
    "        0.0,\n",
    "        0.0,\n",
    "        0.0,\n",
    "        0.0,\n",
    "        0.0,\n",
    "        0.0,\n",
    "        1.0,\n",
    "        1.0,\n",
    "        1.0,\n",
    "        1.0,\n",
    "        1.0,\n",
    "        1.0,\n",
    "        1.0,\n",
    "        1.0,\n",
    "        1.0,\n",
    "        1.0,\n",
    "        1.0,\n",
    "        1.0,\n",
    "    ]\n",
    ")\n",
    "predicted_0 = np.array(\n",
    "    [\n",
    "        0.19015288,\n",
    "        0.23872404,\n",
    "        0.42707312,\n",
    "        0.15308362,\n",
    "        0.2951875,\n",
    "        0.23475641,\n",
    "        0.17882447,\n",
    "        0.36320878,\n",
    "        0.33505476,\n",
    "        0.202608,\n",
    "        0.82044786,\n",
    "        0.69750253,\n",
    "        0.60272784,\n",
    "        0.9032949,\n",
    "        0.86949819,\n",
    "        0.97368264,\n",
    "        0.97289232,\n",
    "        0.75356512,\n",
    "        0.65189193,\n",
    "        0.95237033,\n",
    "        0.91529693,\n",
    "        0.8458463,\n",
    "    ]\n",
    ")"
   ]
  },
  {
   "cell_type": "code",
   "execution_count": null,
   "metadata": {
    "id": "t33mrGdtywEh"
   },
   "outputs": [],
   "source": [
    "plt.figure(figsize=(5, 5))\n",
    "scatter(actual_0, predicted_0, 0.5)"
   ]
  },
  {
   "cell_type": "markdown",
   "metadata": {
    "id": "RqqDS8jeywEi"
   },
   "source": [
    "Интервалы вероятностей для двух классов прекрасно разделяются порогом T = 0.5."
   ]
  },
  {
   "cell_type": "markdown",
   "metadata": {
    "id": "TuYjFAYNywEi"
   },
   "source": [
    "Чаще всего интервалы накладываются - тогда нужно аккуратно подбирать порог.\n",
    "\n",
    "Самый неправильный алгоритм делает все наоборот: поднимает вероятности класса 0 выше вероятностей класса 1. Если так произошло, стоит посмотреть, не перепутались ли метки 0 и 1 при создании целевого вектора из сырых данных.\n",
    "\n",
    "Примеры:"
   ]
  },
  {
   "cell_type": "code",
   "execution_count": null,
   "metadata": {
    "collapsed": true,
    "id": "Zgf9d0RSywEi"
   },
   "outputs": [],
   "source": [
    "actual_1 = np.array(\n",
    "    [\n",
    "        0.0,\n",
    "        0.0,\n",
    "        0.0,\n",
    "        0.0,\n",
    "        0.0,\n",
    "        0.0,\n",
    "        0.0,\n",
    "        0.0,\n",
    "        0.0,\n",
    "        0.0,\n",
    "        0.0,\n",
    "        0.0,\n",
    "        0.0,\n",
    "        0.0,\n",
    "        0.0,\n",
    "        1.0,\n",
    "        1.0,\n",
    "        1.0,\n",
    "        1.0,\n",
    "        1.0,\n",
    "        1.0,\n",
    "        1.0,\n",
    "        1.0,\n",
    "        1.0,\n",
    "        1.0,\n",
    "        1.0,\n",
    "        1.0,\n",
    "        1.0,\n",
    "        1.0,\n",
    "        1.0,\n",
    "    ]\n",
    ")\n",
    "predicted_1 = np.array(\n",
    "    [\n",
    "        0.41310733,\n",
    "        0.43739138,\n",
    "        0.22346525,\n",
    "        0.46746017,\n",
    "        0.58251177,\n",
    "        0.38989541,\n",
    "        0.43634826,\n",
    "        0.32329726,\n",
    "        0.01114812,\n",
    "        0.41623557,\n",
    "        0.54875741,\n",
    "        0.48526472,\n",
    "        0.21747683,\n",
    "        0.05069586,\n",
    "        0.16438548,\n",
    "        0.68721238,\n",
    "        0.72062154,\n",
    "        0.90268312,\n",
    "        0.46486043,\n",
    "        0.99656541,\n",
    "        0.59919345,\n",
    "        0.53818659,\n",
    "        0.8037637,\n",
    "        0.272277,\n",
    "        0.87428626,\n",
    "        0.79721372,\n",
    "        0.62506539,\n",
    "        0.63010277,\n",
    "        0.35276217,\n",
    "        0.56775664,\n",
    "    ]\n",
    ")\n",
    "actual_2 = np.array(\n",
    "    [\n",
    "        1.0,\n",
    "        1.0,\n",
    "        1.0,\n",
    "        1.0,\n",
    "        1.0,\n",
    "        1.0,\n",
    "        1.0,\n",
    "        1.0,\n",
    "        1.0,\n",
    "        1.0,\n",
    "        1.0,\n",
    "        1.0,\n",
    "        0.0,\n",
    "        0.0,\n",
    "        0.0,\n",
    "        0.0,\n",
    "        0.0,\n",
    "        0.0,\n",
    "        0.0,\n",
    "        0.0,\n",
    "        0.0,\n",
    "        0.0,\n",
    "        0.0,\n",
    "        0.0,\n",
    "    ]\n",
    ")\n",
    "predicted_2 = np.array(\n",
    "    [\n",
    "        0.07058193,\n",
    "        0.57877375,\n",
    "        0.42453249,\n",
    "        0.56562439,\n",
    "        0.13372737,\n",
    "        0.18696826,\n",
    "        0.09037209,\n",
    "        0.12609756,\n",
    "        0.14047683,\n",
    "        0.06210359,\n",
    "        0.36812596,\n",
    "        0.22277266,\n",
    "        0.79974381,\n",
    "        0.94843878,\n",
    "        0.4742684,\n",
    "        0.80825366,\n",
    "        0.83569563,\n",
    "        0.45621915,\n",
    "        0.79364286,\n",
    "        0.82181152,\n",
    "        0.44531285,\n",
    "        0.65245348,\n",
    "        0.69884206,\n",
    "        0.69455127,\n",
    "    ]\n",
    ")"
   ]
  },
  {
   "cell_type": "code",
   "execution_count": null,
   "metadata": {
    "id": "sJzoowoWywEi"
   },
   "outputs": [],
   "source": [
    "many_scatters(\n",
    "    [actual_0, actual_1, actual_2],\n",
    "    [predicted_0, predicted_1, predicted_2],\n",
    "    [0.5, 0.5, 0.5],\n",
    "    [\"Perfect\", \"Typical\", \"Awful algorithm\"],\n",
    "    (1, 3),\n",
    ")"
   ]
  },
  {
   "cell_type": "markdown",
   "metadata": {
    "id": "bcm9uip6ywEi"
   },
   "source": [
    "Алгоритм может быть осторожным и стремиться сильно не отклонять вероятности от 0.5, а может рисковать - делать предсказания близакими к нулю или единице.  "
   ]
  },
  {
   "cell_type": "code",
   "execution_count": null,
   "metadata": {
    "collapsed": true,
    "id": "fmkAU1UGywEi"
   },
   "outputs": [],
   "source": [
    "# рискующий идеальный алгоитм\n",
    "actual_0r = np.array(\n",
    "    [\n",
    "        0.0,\n",
    "        0.0,\n",
    "        0.0,\n",
    "        0.0,\n",
    "        0.0,\n",
    "        0.0,\n",
    "        0.0,\n",
    "        0.0,\n",
    "        0.0,\n",
    "        0.0,\n",
    "        0.0,\n",
    "        1.0,\n",
    "        1.0,\n",
    "        1.0,\n",
    "        1.0,\n",
    "        1.0,\n",
    "        1.0,\n",
    "        1.0,\n",
    "        1.0,\n",
    "        1.0,\n",
    "        1.0,\n",
    "        1.0,\n",
    "        1.0,\n",
    "        1.0,\n",
    "    ]\n",
    ")\n",
    "predicted_0r = np.array(\n",
    "    [\n",
    "        0.23563765,\n",
    "        0.16685597,\n",
    "        0.13718058,\n",
    "        0.35905335,\n",
    "        0.18498365,\n",
    "        0.20730027,\n",
    "        0.14833803,\n",
    "        0.18841647,\n",
    "        0.01205882,\n",
    "        0.0101424,\n",
    "        0.10170538,\n",
    "        0.94552901,\n",
    "        0.72007506,\n",
    "        0.75186747,\n",
    "        0.85893269,\n",
    "        0.90517219,\n",
    "        0.97667347,\n",
    "        0.86346504,\n",
    "        0.72267683,\n",
    "        0.9130444,\n",
    "        0.8319242,\n",
    "        0.9578879,\n",
    "        0.89448939,\n",
    "        0.76379055,\n",
    "    ]\n",
    ")\n",
    "# рискующий хороший алгоритм\n",
    "actual_1r = np.array(\n",
    "    [\n",
    "        0.0,\n",
    "        0.0,\n",
    "        0.0,\n",
    "        0.0,\n",
    "        0.0,\n",
    "        0.0,\n",
    "        0.0,\n",
    "        0.0,\n",
    "        0.0,\n",
    "        0.0,\n",
    "        0.0,\n",
    "        0.0,\n",
    "        1.0,\n",
    "        1.0,\n",
    "        1.0,\n",
    "        1.0,\n",
    "        1.0,\n",
    "        1.0,\n",
    "        1.0,\n",
    "        1.0,\n",
    "        1.0,\n",
    "        1.0,\n",
    "        1.0,\n",
    "        1.0,\n",
    "        1.0,\n",
    "        1.0,\n",
    "    ]\n",
    ")\n",
    "predicted_1r = np.array(\n",
    "    [\n",
    "        0.13832748,\n",
    "        0.0814398,\n",
    "        0.16136633,\n",
    "        0.11766141,\n",
    "        0.31784942,\n",
    "        0.14886991,\n",
    "        0.22664977,\n",
    "        0.07735617,\n",
    "        0.07071879,\n",
    "        0.92146468,\n",
    "        0.87579938,\n",
    "        0.97561838,\n",
    "        0.75638872,\n",
    "        0.89900957,\n",
    "        0.93760969,\n",
    "        0.92708013,\n",
    "        0.82003675,\n",
    "        0.85833438,\n",
    "        0.67371118,\n",
    "        0.82115125,\n",
    "        0.87560984,\n",
    "        0.77832734,\n",
    "        0.7593189,\n",
    "        0.81615662,\n",
    "        0.11906964,\n",
    "        0.18857729,\n",
    "    ]\n",
    ")"
   ]
  },
  {
   "cell_type": "code",
   "execution_count": null,
   "metadata": {
    "id": "HwqCbgwUywEj"
   },
   "outputs": [],
   "source": [
    "many_scatters(\n",
    "    [actual_0, actual_1, actual_0r, actual_1r],\n",
    "    [predicted_0, predicted_1, predicted_0r, predicted_1r],\n",
    "    [0.5, 0.5, 0.5, 0.5],\n",
    "    [\"Perfect careful\", \"Typical careful\", \"Perfect risky\", \"Typical risky\"],\n",
    "    (2, 2),\n",
    ")"
   ]
  },
  {
   "cell_type": "markdown",
   "metadata": {
    "id": "-BptohQfywEj"
   },
   "source": [
    "Также интервалы могут смещаться. Если алгоритм боится ошибок false positive, то он будет чаще делать предсказания, близкие к нулю.\n",
    "Аналогично, чтобы избежать ошибок false negative, логично чаще предсказывать большие вероятности."
   ]
  },
  {
   "cell_type": "code",
   "execution_count": null,
   "metadata": {
    "id": "ziDp5OXUywEj"
   },
   "outputs": [],
   "source": [
    "actual_10 = np.array(\n",
    "    [\n",
    "        0.0,\n",
    "        0.0,\n",
    "        0.0,\n",
    "        0.0,\n",
    "        0.0,\n",
    "        0.0,\n",
    "        0.0,\n",
    "        0.0,\n",
    "        0.0,\n",
    "        0.0,\n",
    "        0.0,\n",
    "        0.0,\n",
    "        0.0,\n",
    "        0.0,\n",
    "        1.0,\n",
    "        1.0,\n",
    "        1.0,\n",
    "        1.0,\n",
    "        1.0,\n",
    "        1.0,\n",
    "        1.0,\n",
    "        1.0,\n",
    "        1.0,\n",
    "        1.0,\n",
    "        1.0,\n",
    "        1.0,\n",
    "        1.0,\n",
    "        1.0,\n",
    "        1.0,\n",
    "    ]\n",
    ")\n",
    "predicted_10 = np.array(\n",
    "    [\n",
    "        0.29340574,\n",
    "        0.47340035,\n",
    "        0.1580356,\n",
    "        0.29996772,\n",
    "        0.24115457,\n",
    "        0.16177793,\n",
    "        0.35552878,\n",
    "        0.18867804,\n",
    "        0.38141962,\n",
    "        0.20367392,\n",
    "        0.26418924,\n",
    "        0.16289102,\n",
    "        0.27774892,\n",
    "        0.32013135,\n",
    "        0.13453541,\n",
    "        0.39478755,\n",
    "        0.96625033,\n",
    "        0.47683139,\n",
    "        0.51221325,\n",
    "        0.48938235,\n",
    "        0.57092593,\n",
    "        0.21856972,\n",
    "        0.62773859,\n",
    "        0.90454639,\n",
    "        0.19406537,\n",
    "        0.32063043,\n",
    "        0.4545493,\n",
    "        0.57574841,\n",
    "        0.55847795,\n",
    "    ]\n",
    ")\n",
    "actual_11 = np.array(\n",
    "    [\n",
    "        0.0,\n",
    "        0.0,\n",
    "        0.0,\n",
    "        0.0,\n",
    "        0.0,\n",
    "        0.0,\n",
    "        0.0,\n",
    "        0.0,\n",
    "        0.0,\n",
    "        0.0,\n",
    "        0.0,\n",
    "        0.0,\n",
    "        0.0,\n",
    "        0.0,\n",
    "        1.0,\n",
    "        1.0,\n",
    "        1.0,\n",
    "        1.0,\n",
    "        1.0,\n",
    "        1.0,\n",
    "        1.0,\n",
    "        1.0,\n",
    "        1.0,\n",
    "        1.0,\n",
    "        1.0,\n",
    "        1.0,\n",
    "        1.0,\n",
    "    ]\n",
    ")\n",
    "predicted_11 = np.array(\n",
    "    [\n",
    "        0.35929566,\n",
    "        0.61562123,\n",
    "        0.71974688,\n",
    "        0.24893298,\n",
    "        0.19056711,\n",
    "        0.89308488,\n",
    "        0.71155538,\n",
    "        0.00903258,\n",
    "        0.51950535,\n",
    "        0.72153302,\n",
    "        0.45936068,\n",
    "        0.20197229,\n",
    "        0.67092724,\n",
    "        0.81111343,\n",
    "        0.65359427,\n",
    "        0.70044585,\n",
    "        0.61983513,\n",
    "        0.84716577,\n",
    "        0.8512387,\n",
    "        0.86023125,\n",
    "        0.7659328,\n",
    "        0.70362246,\n",
    "        0.70127618,\n",
    "        0.8578749,\n",
    "        0.83641841,\n",
    "        0.62959491,\n",
    "        0.90445368,\n",
    "    ]\n",
    ")"
   ]
  },
  {
   "cell_type": "code",
   "execution_count": null,
   "metadata": {
    "id": "NianoVvHywEj"
   },
   "outputs": [],
   "source": [
    "many_scatters(\n",
    "    [actual_1, actual_10, actual_11],\n",
    "    [predicted_1, predicted_10, predicted_11],\n",
    "    [0.5, 0.5, 0.5],\n",
    "    [\"Typical\", \"Avoids FP\", \"Avoids FN\"],\n",
    "    (1, 3),\n",
    ")"
   ]
  },
  {
   "cell_type": "markdown",
   "metadata": {
    "id": "v2wtqK9vywEj"
   },
   "source": [
    "Мы описали разные характеры векторов вероятностей. Далее мы будем смотреть, как метрики оценивают разные векторы предсказаний, поэтому обязательно выполните ячейки, создающие векторы для визуализации."
   ]
  },
  {
   "cell_type": "markdown",
   "metadata": {
    "id": "nFA7aGcDywEj"
   },
   "source": [
    "### Метрики, оценивающие бинарные векторы предсказаний"
   ]
  },
  {
   "cell_type": "markdown",
   "metadata": {
    "id": "HIZsaDtMywEj"
   },
   "source": [
    "Есть две типичные ситуации, когда специалисты по машинному обучению начинают изучать характеристики метрик качества:\n",
    "1. при участии в соревновании или решении прикладной задачи, когда вектор предсказаний оценивается по конкретной метрике, и нужно построить алгоритм, максимизирующий эту метрику.\n",
    "1. на этапе формализации задачи машинного обучения, когда есть требования прикладной области, и нужно предложить математическую метрику, которая будет соответствовать этим требованиям.\n",
    "\n",
    "Далее мы вкратце рассмотрим каждую метрику с этих двух позиций."
   ]
  },
  {
   "cell_type": "markdown",
   "metadata": {
    "id": "wui-3u_pywEj"
   },
   "source": [
    "#### Precision и recall; accuracy"
   ]
  },
  {
   "cell_type": "markdown",
   "metadata": {
    "id": "Yzu8fdxbywEj"
   },
   "source": [
    "Для начала разберемся с метриками, оценивающие качество уже после бинаризации по порогу T, то есть сравнивающие два бинарных вектора: actual и predicted."
   ]
  },
  {
   "cell_type": "markdown",
   "metadata": {
    "id": "ue5mKoY5ywEj"
   },
   "source": [
    "Две популярные метрики - precision и recall. Первая показывает, как часто алгоритм предсказывает класс 1 и оказывается правым, а вторая - как много объектов класса 1 алгоритм нашел.\n",
    "\n",
    "Также рассмотрим самую простую и известную метрику - accuracy; она показывает долю правильных ответов.\n",
    "\n",
    "Выясним преимущества и недостатки этих метрик, попробовав их на разных векторах вероятностей."
   ]
  },
  {
   "cell_type": "code",
   "execution_count": null,
   "metadata": {
    "collapsed": true,
    "id": "R3T72AtAywEj"
   },
   "outputs": [],
   "source": [
    "from sklearn.metrics import precision_score, recall_score, accuracy_score"
   ]
  },
  {
   "cell_type": "code",
   "execution_count": null,
   "metadata": {
    "id": "3B7tp59-ywEk"
   },
   "outputs": [],
   "source": [
    "T = 0.5\n",
    "print \"Алгоритмы, разные по качеству:\"\n",
    "for actual, predicted, descr in zip([actual_0, actual_1, actual_2],\n",
    "                                    [predicted_0 > T, predicted_1 > T, predicted_2 > T],\n",
    "                                    [\"Perfect:\", \"Typical:\", \"Awful:\"]):\n",
    "    print descr, \"precision =\", precision_score(actual, predicted), \"recall =\", \\\n",
    "        recall_score(actual, predicted), \";\",\\\n",
    "        \"accuracy =\", accuracy_score(actual, predicted)\n",
    "print\n",
    "print \"Осторожный и рискующий алгоритмы:\"\n",
    "for actual, predicted, descr in zip([actual_1, actual_1r],\n",
    "                                    [predicted_1 > T, predicted_1r > T],\n",
    "                                    [\"Typical careful:\", \"Typical risky:\"]):\n",
    "    print descr, \"precision =\", precision_score(actual, predicted), \"recall =\", \\\n",
    "        recall_score(actual, predicted), \";\",\\\n",
    "        \"accuracy =\", accuracy_score(actual, predicted)\n",
    "print\n",
    "print \"Разные склонности алгоритмов к ошибкам FP и FN:\"\n",
    "for actual, predicted, descr in zip([actual_10, actual_11],\n",
    "                                    [predicted_10 > T, predicted_11 > T],\n",
    "                                    [\"Avoids FP:\", \"Avoids FN:\"]):\n",
    "    print descr, \"precision =\", precision_score(actual, predicted), \"recall =\", \\\n",
    "        recall_score(actual, predicted), \";\",\\\n",
    "        \"accuracy =\", accuracy_score(actual, predicted)"
   ]
  },
  {
   "cell_type": "markdown",
   "metadata": {
    "id": "nY5lhu5JywEk"
   },
   "source": [
    "Все три метрики легко различают простые случаи хороших и плохих алгоритмов. Обратим внимание, что метрики имеют область значений  [0, 1], и потому их легко интерпретировать.\n",
    "\n",
    "Метрикам не важны величины вероятностей, им важно только то, сколько объектов неправильно зашли за установленную границу (в данном случае T = 0.5).\n",
    "\n",
    "Метрика accuracy дает одинаковый вес ошибкам false positive и false negative, зато пара метрик precision и recall однозначно идентифицирует это различие. Собственно, их для того и используют, чтобы контролировать ошибки FP и FN.\n",
    "\n",
    "Мы измерили три метрики, фиксировав порог T = 0.5, потому что для почти всех картинок он кажется оптимальным. Давайте посмотрим на последней (самой интересной для этих метрик) группе векторов, как меняются precision и recall при увеличении порога."
   ]
  },
  {
   "cell_type": "code",
   "execution_count": null,
   "metadata": {
    "collapsed": true,
    "id": "WIgrS0QVywEk"
   },
   "outputs": [],
   "source": [
    "from sklearn.metrics import precision_recall_curve"
   ]
  },
  {
   "cell_type": "code",
   "execution_count": null,
   "metadata": {
    "id": "o6evf0SgywEk"
   },
   "outputs": [],
   "source": [
    "precs = []\n",
    "recs = []\n",
    "threshs = []\n",
    "labels = [\"Typical\", \"Avoids FP\", \"Avoids FN\"]\n",
    "for actual, predicted in zip(\n",
    "    [actual_1, actual_10, actual_11], [predicted_1, predicted_10, predicted_11]\n",
    "):\n",
    "    prec, rec, thresh = precision_recall_curve(actual, predicted)\n",
    "    precs.append(prec)\n",
    "    recs.append(rec)\n",
    "    threshs.append(thresh)\n",
    "plt.figure(figsize=(15, 5))\n",
    "for i in range(3):\n",
    "    ax = plt.subplot(1, 3, i + 1)\n",
    "    plt.plot(threshs[i], precs[i][:-1], label=\"precision\")\n",
    "    plt.plot(threshs[i], recs[i][:-1], label=\"recall\")\n",
    "    plt.xlabel(\"threshold\")\n",
    "    ax.set_title(labels[i])\n",
    "    plt.legend()"
   ]
  },
  {
   "cell_type": "markdown",
   "metadata": {
    "id": "WetjhXqqywEk"
   },
   "source": [
    "При увеличении порога мы делаем меньше ошибок FP и больше ошибок FN, поэтому одна из кривых растет, а вторая  - падает. По такому графику можно подобрать оптимальное значение порога, при котором precision и recall будут приемлемы. Если такого порога не нашлось, нужно обучать другой алгоритм.\n",
    "\n",
    "Оговоримся, что приемлемые значения precision и recall определяются предметной областью. Например, в задаче определения, болен ли пациент определенной болезнью (0 - здоров, 1 - болен), ошибок false negative стараются избегать, требуя recall около 0.9. Можно сказать человеку, что он болен, и при дальнейшей диагностике выявить ошибку; гораздо хуже пропустить наличие болезни."
   ]
  },
  {
   "cell_type": "markdown",
   "metadata": {
    "id": "OHmcpkCvywEk"
   },
   "source": [
    "# problem 1."
   ]
  },
  {
   "cell_type": "markdown",
   "source": [
    "Фиксируем порог T = 0.65; по графикам можно примерно узнать, чему равны метрики на трех выбранных парах векторов (actual, predicted). Вычислите точные precision и recall для этих трех пар векторов."
   ],
   "metadata": {
    "id": "rp3njBHwzPhS"
   }
  },
  {
   "cell_type": "code",
   "source": [
    "T = 0.65\n",
    "precisions = {}\n",
    "recalls = {}"
   ],
   "metadata": {
    "id": "Ps1u_hy-zdcb"
   },
   "execution_count": null,
   "outputs": []
  },
  {
   "cell_type": "markdown",
   "metadata": {
    "id": "kpz8hwF-ywEk"
   },
   "source": [
    "#### F1-score"
   ]
  },
  {
   "cell_type": "markdown",
   "metadata": {
    "id": "WUmgriW2ywEl"
   },
   "source": [
    "Очевидный недостаток пары метрик precision-recall - в том, что их две: непонятно, как ранжировать алгоритмы. Чтобы этого избежать, используют F1-метрику, которая равна среднему гармоническому precision и recall.\n",
    "F1-метрика будет равна 1, если и только если precision = 1 и recall = 1 (идеальный алгоритм).\n",
    "\n",
    "(: Обмануть F1 сложно: если одна из величин маленькая, а другая близка к 1 (по графикам видно, что такое соотношение иногда легко получить), F1 будет далека от 1. F1-метрику сложно оптимизировать, потому что для этого нужно добиваться высокой полноты и точности одновременно.\n",
    "\n",
    "Например, посчитаем F1 для того же набора векторов, для которого мы строили графики (мы помним, что там одна из кривых быстро выходит в единицу)."
   ]
  },
  {
   "cell_type": "code",
   "execution_count": null,
   "metadata": {
    "id": "6x6c5FvTywEl"
   },
   "outputs": [],
   "source": [
    "from sklearn.metrics import f1_score"
   ]
  },
  {
   "cell_type": "code",
   "execution_count": null,
   "metadata": {
    "id": "UMNNzJJaywEl"
   },
   "outputs": [],
   "source": []
  },
  {
   "cell_type": "markdown",
   "metadata": {
    "id": "2KBGERt7ywEl"
   },
   "source": [
    "F1-метрика в двух последних случаях, когда одна из парных метрик равна 1, значительно меньше, чем в первом, сбалансированном случае."
   ]
  },
  {
   "cell_type": "markdown",
   "metadata": {
    "id": "du6F1CNgywEl"
   },
   "source": [
    "#problem 2.\n"
   ]
  },
  {
   "cell_type": "markdown",
   "source": [
    "Для тех же пар (actual, predicted), что и в предыдущей задаче, найдите оптимальные пороги, максимизирующие F1_score. Будем рассматривать только пороги вида T = 0.1 * k, k - целое; соответственно, нужно найти три значения k. Если f1 максимизируется при нескольких значениях k, укажите наименьшее из них."
   ],
   "metadata": {
    "id": "PXTl_d3izkK_"
   }
  },
  {
   "cell_type": "code",
   "execution_count": null,
   "metadata": {
    "id": "fk9ymJr2ywEl"
   },
   "outputs": [],
   "source": []
  },
  {
   "cell_type": "markdown",
   "metadata": {
    "id": "WuMaPDCiywEm"
   },
   "source": [
    "### Метрики, оценивающие векторы вероятностей класса 1"
   ]
  },
  {
   "cell_type": "markdown",
   "metadata": {
    "id": "_h0_Dq9BywEm"
   },
   "source": [
    "Рассмотренные метрики удобно интерпретировать, но при их использовании мы не учитываем большую часть информации, полученной от алгоритма. В некоторых задачах вероятности нужны в чистом виде, например, если мы предсказываем, выиграет ли команда в футбольном матче, и величина вероятности влияет на размер ставки за эту команду. Даже если в конце концов мы все равно бинаризуем предсказание, хочется следить за характером вектора вероятности."
   ]
  },
  {
   "cell_type": "markdown",
   "metadata": {
    "id": "OG4d5p6xywEm"
   },
   "source": [
    "#### Log_loss"
   ]
  },
  {
   "cell_type": "markdown",
   "metadata": {
    "id": "dg1IQyPPywEm"
   },
   "source": [
    "Log_loss вычисляет правдоподобие меток в actual с вероятностями из predicted, взятое с противоположным знаком:\n",
    "\n",
    "$log\\_loss(actual, predicted) = - \\frac 1 n \\sum_{i=1}^n (actual_i \\cdot \\log (predicted_i) + (1-actual_i) \\cdot \\log (1-predicted_i))$, $n$ - длина векторов.\n",
    "\n",
    "Соответственно, эту метрику нужно минимизировать."
   ]
  },
  {
   "cell_type": "markdown",
   "metadata": {
    "id": "0QbH9wPIywEm"
   },
   "source": [
    "Вычислим ее на наших векторах:"
   ]
  },
  {
   "cell_type": "code",
   "execution_count": null,
   "metadata": {
    "collapsed": true,
    "id": "0NcfQy0jywEm"
   },
   "outputs": [],
   "source": [
    "from sklearn.metrics import log_loss"
   ]
  },
  {
   "cell_type": "code",
   "execution_count": null,
   "metadata": {
    "id": "96LOqoQOywEm",
    "outputId": "357e1697-e72e-4a58-cd6e-0a688a0a5230"
   },
   "outputs": [
    {
     "name": "stdout",
     "output_type": "stream",
     "text": [
      "Алгоритмы, разные по качеству:\n",
      "Perfect: 0.249212637592\n",
      "Typical: 0.464506822256\n",
      "Awful: 1.52702488092\n",
      "\n",
      "Осторожный и рискующий алгоритмы:\n",
      "Ideal careful 0.249212637592\n",
      "Ideal risky 0.170619479147\n",
      "Typical careful: 0.464506822256\n",
      "Typical risky: 0.613874592234\n",
      "\n",
      "Разные склонности алгоритмов к ошибкам FP и FN:\n",
      "Avoids FP: 0.584933970989\n",
      "Avoids FN: 0.588679128881\n"
     ]
    }
   ],
   "source": [
    "print \"Алгоритмы, разные по качеству:\"\n",
    "for actual, predicted, descr in zip([actual_0, actual_1, actual_2],\n",
    "                                    [predicted_0, predicted_1, predicted_2],\n",
    "                                    [\"Perfect:\", \"Typical:\", \"Awful:\"]):\n",
    "    print descr, log_loss(actual, predicted)\n",
    "print\n",
    "print \"Осторожный и рискующий алгоритмы:\"\n",
    "for actual, predicted, descr in zip([actual_0, actual_0r, actual_1, actual_1r],\n",
    "                                    [predicted_0, predicted_0r, predicted_1, predicted_1r],\n",
    "                                    [\"Ideal careful\", \"Ideal risky\", \"Typical careful:\", \"Typical risky:\"]):\n",
    "    print descr, log_loss(actual, predicted)\n",
    "print\n",
    "print \"Разные склонности алгоритмов к ошибкам FP и FN:\"\n",
    "for actual, predicted, descr in zip([actual_10, actual_11],\n",
    "                                    [predicted_10, predicted_11],\n",
    "                                    [\"Avoids FP:\", \"Avoids FN:\"]):\n",
    "    print descr, log_loss(actual, predicted)"
   ]
  },
  {
   "cell_type": "markdown",
   "metadata": {
    "id": "NWnYaMXZywEm"
   },
   "source": [
    "Как и предыдущие метрики, log_loss хорошо различает идеальный, типичный и плохой случаи. Но обратите внимание, что интерпретировать величину достаточно сложно: метрика не достигает нуля никогда и не имеет верхней границы. Поэтому даже для идеального алгоритма, если смотреть только на одно значение log_loss, невозможно понять, что он идеальный.\n",
    "\n",
    "Но зато эта метрика различает осторожный и рискующий алгоритмы. Как мы видели выше, в случаях Typical careful и Typical risky количество ошибок при бинаризации по T = 0.5 примерно одинаковое, в случаях Ideal ошибок вообще нет. Однако за неудачно угаданные классы в Typical рискующему алгоритму приходится платить большим увеличением log_loss, чем осторожному алгоритму. С другой стороны, за удачно угаданные классы рискованный идеальный алгоритм получает меньший log_loss, чем осторожный идеальный алгоритм.\n",
    "\n",
    "Таким образом, log_loss чувствителен и к вероятностям, близким к 0 и 1, и к вероятностям, близким к 0.5.\n",
    "\n",
    "Ошибки FP и FN обычный Log_loss различать не умеет."
   ]
  },
  {
   "cell_type": "markdown",
   "metadata": {
    "id": "-M2eIm_vywEm"
   },
   "source": [
    "Однако нетрудно сделать обобщение log_loss на случай, когда нужно больше штрафовать FP или FN: для этого достаточно добавить выпуклую (то есть неотрицательную и суммирующуюся к единице) комбинацию из двух коэффициентов к слагаемым правдоподобия. Например, давайте штрафовать false positive:\n",
    "\n",
    "$weighted\\_log\\_loss(actual, predicted) = -\\frac 1 n \\sum_{i=1}^n (0.3\\, \\cdot actual_i \\cdot \\log (predicted_i) + 0.7\\,\\cdot (1-actual_i)\\cdot \\log (1-predicted_i))$\n",
    "\n",
    "Если алгоритм неверно предсказывает большую вероятность первому классу, то есть объект на самом деле принадлежит классу 0, то первое слагаемое в скобках равно нулю, а второе учитывается с большим весом.  "
   ]
  },
  {
   "cell_type": "markdown",
   "metadata": {
    "id": "MR2XL4d8ywEm"
   },
   "source": [
    "# problem 3"
   ]
  },
  {
   "cell_type": "markdown",
   "source": [
    "Напишите функцию, которая берет на вход векторы actual и predicted и возвращает модифицированный Log-Loss, вычисленный по формуле выше. Вычислите ее значение (обозначим его wll) на тех же векторах, на которых мы вычисляли обычный log_loss.\n",
    "\n",
    "$log\\_loss(actual, predicted) = - \\frac 1 n \\sum_{i=1}^n (actual_i \\cdot \\log (predicted_i) + (1-actual_i) \\cdot \\log (1-predicted_i))$, $n$ - длина векторов.\n",
    "\n",
    "$weighted\\_log\\_loss(actual, predicted) = -\\frac 1 n \\sum_{i=1}^n (0.3\\, \\cdot actual_i \\cdot \\log (predicted_i) + 0.7\\,\\cdot (1-actual_i)\\cdot \\log (1-predicted_i))$"
   ],
   "metadata": {
    "id": "q7YmgYX2z5kF"
   }
  },
  {
   "cell_type": "code",
   "source": [
    "import math\n",
    "\n",
    "def weighted_log_loss(actual, predicted):"
   ],
   "metadata": {
    "id": "iD5gWQCJ0DU8"
   },
   "execution_count": null,
   "outputs": []
  },
  {
   "cell_type": "markdown",
   "metadata": {
    "id": "aZ1l5FDbywEn"
   },
   "source": [
    "Обратите внимание на разницу weighted_log_loss между случаями Avoids FP и Avoids FN."
   ]
  },
  {
   "cell_type": "markdown",
   "metadata": {
    "id": "6DC9v1TGywEn"
   },
   "source": [
    "#### ROC и AUC"
   ]
  },
  {
   "cell_type": "markdown",
   "metadata": {
    "id": "jzqR3nVIywEn"
   },
   "source": [
    "При построении ROC-кривой (receiver operating characteristic) происходит варьирование порога бинаризации вектора вероятностей, и  вычисляются величины, зависящие от числа ошибок FP и FN. Эти величины задаются так, чтобы в случае, когда существует порог для идеального разделения классов, ROC-кривая проходила через определенную точку - верхний левый угол квадрата [0, 1] x [0, 1]. Кроме того, она всегда проходит через левый нижний и правый верхний углы. Получается наглядная визуализация качества алгоритма. С целью охарактеризовать эту визуализацию численно, ввели понятие AUC - площадь под ROC-кривой.\n",
    "\n",
    "Есть несложный и эффективный алгоритм, который за один проход по выборке вычисляет ROC-кривую и AUC, но мы не будем вдаваться в детали."
   ]
  },
  {
   "cell_type": "markdown",
   "metadata": {
    "id": "mYtlSr2ZywEn"
   },
   "source": [
    "Построим ROC-кривые для наших задач:"
   ]
  },
  {
   "cell_type": "code",
   "execution_count": null,
   "metadata": {
    "id": "Qr1lyd6GywEn"
   },
   "outputs": [],
   "source": [
    "from sklearn.metrics import roc_curve, roc_auc_score"
   ]
  },
  {
   "cell_type": "code",
   "execution_count": null,
   "metadata": {
    "id": "2a6gAUsAywEn"
   },
   "outputs": [],
   "source": [
    "plt.figure(figsize=(15, 5))\n",
    "plt.subplot(1, 3, 1)\n",
    "aucs = \"\"\n",
    "for actual, predicted, descr in zip([actual_0, actual_1, actual_2],\n",
    "                                    [predicted_0, predicted_1, predicted_2],\n",
    "                                    [\"Perfect\", \"Typical\", \"Awful\"]):\n",
    "    fpr, tpr, thr = roc_curve(actual, predicted)\n",
    "    plt.plot(fpr, tpr, label=descr)\n",
    "    aucs += descr + \":%3f\"%roc_auc_score(actual, predicted) + \" \"\n",
    "plt.xlabel(\"false positive rate\")\n",
    "plt.ylabel(\"true positive rate\")\n",
    "plt.legend(loc=4)\n",
    "plt.axis([-0.1, 1.1, -0.1, 1.1])\n",
    "plt.subplot(1, 3, 2)\n",
    "for actual, predicted, descr in zip([actual_0, actual_0r, actual_1, actual_1r],\n",
    "                                    [predicted_0, predicted_0r, predicted_1, predicted_1r],\n",
    "                                    [\"Ideal careful\", \"Ideal Risky\", \"Typical careful\", \"Typical risky\"]):\n",
    "    fpr, tpr, thr = roc_curve(actual, predicted)\n",
    "    aucs += descr + \":%3f\"%roc_auc_score(actual, predicted) + \" \"\n",
    "    plt.plot(fpr, tpr, label=descr)\n",
    "plt.xlabel(\"false positive rate\")\n",
    "plt.ylabel(\"true positive rate\")\n",
    "plt.legend(loc=4)\n",
    "plt.axis([-0.1, 1.1, -0.1, 1.1])\n",
    "plt.subplot(1, 3, 3)\n",
    "for actual, predicted, descr in zip([actual_1, actual_10, actual_11],\n",
    "                                    [predicted_1, predicted_10, predicted_11],\n",
    "                                    [\"Typical\", \"Avoids FP\", \"Avoids FN\"]):\n",
    "    fpr, tpr, thr = roc_curve(actual, predicted)\n",
    "    aucs += descr + \":%3f\"%roc_auc_score(actual, predicted) + \" \"\n",
    "    plt.plot(fpr, tpr, label=descr)\n",
    "plt.xlabel(\"false positive rate\")\n",
    "plt.ylabel(\"true positive rate\")\n",
    "plt.legend(loc=4)\n",
    "plt.axis([-0.1, 1.1, -0.1, 1.1])\n",
    "print aucs"
   ]
  },
  {
   "cell_type": "markdown",
   "metadata": {
    "id": "iJmfDOzeywEo"
   },
   "source": [
    "Чем больше объектов в выборке, тем более гладкой выглядит кривая (хотя на самом деле она все равно ступенчатая).\n",
    "\n",
    "Как и ожидалось, кривые всех идеальных алгоритмов проходят через левый верхний угол. На первом графике также показана типичная ROC-кривая (обычно на практике они не доходят до \"идеального\" угла).\n",
    "\n",
    "AUC рискующего алгоритма значительном меньше, чем у осторожного, хотя осторожный и рискущий идеальные алгоритмы не различаются по ROC или AUC. Поэтому стремиться увеличить зазор между интервалами вероятностей классов смысла не имеет.\n",
    "\n",
    "Наблюдается перекос кривой в случае, когда алгоритму свойственны ошибки FP или FN. Однако по величине AUC это отследить невозможно (кривые могут быть симметричны относительно диагонали (0, 1)-(1, 0))."
   ]
  },
  {
   "cell_type": "markdown",
   "metadata": {
    "id": "GWnpRVmzywEo"
   },
   "source": [
    "После того, как кривая построена, удобно выбирать порог бинаризации, в котором будет достигнут компромисс между FP или FN. Порог соответствует точке на кривой. Если мы хотим избежать ошибок FP, нужно выбирать точку на левой стороне квадрата (как можно выше), если FN - точку на верхней стороне квадрата (как можно левее). Все промежуточные точки будут соответствовать разным пропорциям FP и FN."
   ]
  },
  {
   "cell_type": "code",
   "execution_count": null,
   "metadata": {
    "scrolled": false,
    "id": "ddilb8YUywEo"
   },
   "outputs": [],
   "source": [
    "def get_distance(fpr, tpr):\n",
    "    return ((fpr) ** 2 + (tpr - 1) ** 2) ** 0.5\n",
    "\n",
    "\n",
    "def get_opt_thresh(actual, predicted, name):\n",
    "    fprs, tprs, thrs = roc_curve(actual, predicted)\n",
    "\n",
    "    fpr_opt = None\n",
    "    tpr_opt = None\n",
    "    distance_opt = None\n",
    "    thr_opt = None\n",
    "    for i in range(len(thrs)):\n",
    "\n",
    "        dist = get_distance(fprs[i], tprs[i])\n",
    "        if (distance_opt is None) or (dist < distance_opt):\n",
    "            distance_opt = dist\n",
    "            fpr_opt = fprs[i]\n",
    "            tpr_opt = tprs[i]\n",
    "            thr_opt = thrs[i]\n",
    "    plt.figure(figsize=(5, 5))\n",
    "    plt.plot(fprs, tprs)\n",
    "    plt.xlabel(\"fpr\")\n",
    "    plt.ylabel(\"tpr\")\n",
    "    plt.title(name)\n",
    "    plt.xlim((0, 1))\n",
    "    plt.ylim((0, 1))\n",
    "    plt.scatter([fpr_opt], [tpr_opt], color=\"red\")\n",
    "    plt.show()\n",
    "    return thr_opt\n",
    "\n",
    "\n",
    "T_0 = get_opt_thresh(actual_0, predicted_0, \"Perfect\")\n",
    "T_1 = get_opt_thresh(actual_1, predicted_1, \"Typical\")\n",
    "T_2 = get_opt_thresh(actual_2, predicted_2, \"Awful\")\n",
    "T_0r = get_opt_thresh(actual_0r, predicted_0r, \"Ideal Risky\")\n",
    "T_1r = get_opt_thresh(actual_1r, predicted_1r, \"Typical Risky\")\n",
    "T_10 = get_opt_thresh(actual_10, predicted_10, \"Avoids FP\")\n",
    "T_11 = get_opt_thresh(actual_11, predicted_11, \"Avoids FN\")"
   ]
  },
  {
   "cell_type": "markdown",
   "metadata": {
    "id": "tKa9NFrDywEo"
   },
   "source": [
    "Наподобие roc_curve, строят также precision-recall curve и ищут площадь под ней."
   ]
  },
  {
   "cell_type": "markdown",
   "metadata": {
    "id": "5pfnIWXzywEo"
   },
   "source": [
    "### Заключение\n",
    "\n",
    "Рассмотрели несколько метрик бинарной классификации. Некоторые из них, например, log_loss, обобщаются на многоклассовый случай. Если метрику сложно обобщить в виде формулы, задачу многоклассовой классификации рассматривают как совокупность задач бинарной классификации и затем особыми способами усредняют метрику (например, micro и macro averaging).\n",
    "\n",
    "На практике всегда полезно визуализировать векторы, которые выдает ваш алгоритм, чтобы понимать, какие он делает ошибки при разных порогах и как метрика реагирует на выдаваемые векторы предсказаний."
   ]
  }
 ],
 "metadata": {
  "kernelspec": {
   "display_name": "Python 2",
   "language": "python",
   "name": "python2"
  },
  "language_info": {
   "codemirror_mode": {
    "name": "ipython",
    "version": 2
   },
   "file_extension": ".py",
   "mimetype": "text/x-python",
   "name": "python",
   "nbconvert_exporter": "python",
   "pygments_lexer": "ipython2",
   "version": "2.7.11"
  },
  "colab": {
   "provenance": []
  }
 },
 "nbformat": 4,
 "nbformat_minor": 0
}